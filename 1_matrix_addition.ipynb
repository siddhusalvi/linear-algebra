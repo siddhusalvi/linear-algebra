{
 "cells": [
  {
   "cell_type": "raw",
   "metadata": {},
   "source": [
    "#Filename: addition of matrix\n",
    "#Created: Siddhesh salvi\n",
    "#Change history:18.1.2020 / Siddhhesh  Salvi\n",
    "#Problem statement :\n",
    "#1. Write a python program to add below matrices \n",
    "X = [[12,7,3],\n",
    "    [4 ,5,6],\n",
    "    [7 ,8,9]]\n",
    "    \n",
    "Y = [[5,8,1],\n",
    "    [6,7,3],\n",
    "    [4,5,9]]\n"
   ]
  },
  {
   "cell_type": "code",
   "execution_count": 17,
   "metadata": {},
   "outputs": [
    {
     "name": "stdout",
     "output_type": "stream",
     "text": [
      "Enter row count of matrix : 3\n",
      "Enter column count of matrix : 3\n"
     ]
    }
   ],
   "source": [
    "flag = True\n",
    "while flag:\n",
    "    try:\n",
    "        row = int(input(\"Enter row count of matrix : \"))\n",
    "        col = int(input(\"Enter column count of matrix : \"))\n",
    "        flag = False\n",
    "    except ValueError:\n",
    "        print(\"please enter valid integer. \")\n",
    "        continue\n",
    "    except Exception as e:\n",
    "        print(\" Error is  \", e)"
   ]
  },
  {
   "cell_type": "code",
   "execution_count": 18,
   "metadata": {},
   "outputs": [
    {
     "name": "stdout",
     "output_type": "stream",
     "text": [
      "Enter first matrix : \n",
      "row 1  :\n",
      "12\n",
      "7\n",
      "2\n",
      "row 2  :\n",
      "4\n",
      "5\n",
      "6\n",
      "row 3  :\n",
      "7\n",
      "8\n",
      "9\n",
      "Enter second matrix :   :\n",
      "row 1\n",
      "5\n",
      "8\n",
      "1\n",
      "row 2\n",
      "6\n",
      "7\n",
      "1\n",
      "row 3\n",
      "4\n",
      "5\n",
      "9\n"
     ]
    }
   ],
   "source": [
    "# input part\n",
    "flag = True\n",
    "while flag:\n",
    "    try:\n",
    "        matrix1 = [[0 for i in range(col)] for j in range(row)]\n",
    "        print(\"Enter first matrix : \")\n",
    "        for i in range(row):\n",
    "            print(\"row\", i + 1, \" :\")\n",
    "            for j in range(col):\n",
    "                matrix1[i][j] = int(input())\n",
    "\n",
    "        matrix2 = [[0 for i in range(col)] for j in range(row)]\n",
    "        print(\"Enter second matrix : \", \" :\")\n",
    "        for i in range(row):\n",
    "            print(\"row\", i + 1)\n",
    "            for j in range(col):\n",
    "                matrix2[i][j] = int(input())\n",
    "        flag = False\n",
    "\n",
    "    except ValueError:\n",
    "        print(\"please enter valid integer. \")\n",
    "        continue\n",
    "    except Exception as e:\n",
    "        print(\" Error is  \", e)"
   ]
  },
  {
   "cell_type": "code",
   "execution_count": 19,
   "metadata": {},
   "outputs": [
    {
     "name": "stdout",
     "output_type": "stream",
     "text": [
      "Matrix one is :\n",
      "[12, 7, 2]\n",
      "[4, 5, 6]\n",
      "[7, 8, 9]\n",
      "Matrix two is :\n",
      "[5, 8, 1]\n",
      "[6, 7, 1]\n",
      "[4, 5, 9]\n"
     ]
    }
   ],
   "source": [
    "# function to print matrix\n",
    "def print_matrix(given_mat):\n",
    "    for rows in given_mat:\n",
    "        print(rows)\n",
    "\n",
    "print(\"Matrix one is :\")\n",
    "print_matrix(matrix1)\n",
    "\n",
    "print(\"Matrix two is :\")\n",
    "print_matrix(matrix2)"
   ]
  },
  {
   "cell_type": "code",
   "execution_count": 20,
   "metadata": {},
   "outputs": [
    {
     "name": "stdout",
     "output_type": "stream",
     "text": [
      "Answer is :\n",
      "[17, 15, 3]\n",
      "[10, 12, 7]\n",
      "[11, 13, 18]\n"
     ]
    }
   ],
   "source": [
    "# function to add matrix\n",
    "def add_matrix(mat1, mat2, given_row, given_col):\n",
    "    mat3 = [[0 for i in range(given_col)] for j in range(given_row)]\n",
    "    for i in range(len(mat1)):\n",
    "        for j in range(len(mat1[i])):\n",
    "            mat3[i][j] = mat1[i][j] + mat2[i][j]\n",
    "    return mat3\n",
    "\n",
    "matrix3 = add_matrix(matrix1, matrix2, row, col)\n",
    "print(\"Answer is :\")\n",
    "print_matrix(matrix3)"
   ]
  }
 ],
 "metadata": {
  "kernelspec": {
   "display_name": "Python 3",
   "language": "python",
   "name": "python3"
  },
  "language_info": {
   "codemirror_mode": {
    "name": "ipython",
    "version": 3
   },
   "file_extension": ".py",
   "mimetype": "text/x-python",
   "name": "python",
   "nbconvert_exporter": "python",
   "pygments_lexer": "ipython3",
   "version": "3.7.3"
  }
 },
 "nbformat": 4,
 "nbformat_minor": 2
}
