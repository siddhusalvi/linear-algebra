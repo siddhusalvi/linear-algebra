{
 "cells": [
  {
   "cell_type": "raw",
   "metadata": {},
   "source": [
    "# Filename: addition of matrix\n",
    "Created: Siddhesh salvi\n",
    "Change history:\n",
    "18.1.2020 / Siddhhesh  Salvi\n",
    "Problem statement :\n",
    "1. Write a python program to add below matrices \n",
    "X = [[12,7,3],\n",
    "    [4 ,5,6],\n",
    "    [7 ,8,9]]\n",
    "    \n",
    "Y = [[5,8,1],\n",
    "    [6,7,3],\n",
    "    [4,5,9]]\n"
   ]
  },
  {
   "cell_type": "code",
   "execution_count": 33,
   "metadata": {},
   "outputs": [
    {
     "name": "stdout",
     "output_type": "stream",
     "text": [
      "Enter row count of matrix :3\n"
     ]
    }
   ],
   "source": [
    "row = int(input(\"Enter row count of matrix :\"))"
   ]
  },
  {
   "cell_type": "code",
   "execution_count": 34,
   "metadata": {},
   "outputs": [
    {
     "name": "stdout",
     "output_type": "stream",
     "text": [
      "Enter column count of matrix :3\n"
     ]
    }
   ],
   "source": [
    "col = int(input(\"Enter column count of matrix :\"))"
   ]
  },
  {
   "cell_type": "code",
   "execution_count": 35,
   "metadata": {},
   "outputs": [
    {
     "name": "stdout",
     "output_type": "stream",
     "text": [
      "Enter first matrix : \n",
      "row 1\n",
      "12\n",
      "7\n",
      "3\n",
      "row 2\n",
      "4\n",
      "5\n",
      "6\n",
      "row 3\n",
      "7\n",
      "8\n",
      "9\n"
     ]
    }
   ],
   "source": [
    "matrix1 = [[ 0 for i in range(col) ] for j in range(row)]\n",
    "#print(matrix1)\n",
    "print(\"Enter first matrix : \")\n",
    "for i in range(row):\n",
    "    print(\"row\",i+1)\n",
    "    for j in range(col):\n",
    "        matrix1[i][j] = int(input())\n"
   ]
  },
  {
   "cell_type": "code",
   "execution_count": 36,
   "metadata": {},
   "outputs": [
    {
     "name": "stdout",
     "output_type": "stream",
     "text": [
      "Enter second matrix : \n",
      "row 1\n",
      "5\n",
      "8\n",
      "1\n",
      "row 2\n",
      "6\n",
      "7\n",
      "3\n",
      "row 3\n",
      "4\n",
      "5\n",
      "9\n"
     ]
    }
   ],
   "source": [
    "matrix2 = [[ 0 for i in range(col) ] for j in range(row)]\n",
    "#print(matrix1)\n",
    "print(\"Enter second matrix : \")\n",
    "for i in range(row):\n",
    "    print(\"row\",i+1)\n",
    "    for j in range(col):\n",
    "        matrix2[i][j] = int(input())"
   ]
  },
  {
   "cell_type": "code",
   "execution_count": 37,
   "metadata": {},
   "outputs": [
    {
     "name": "stdout",
     "output_type": "stream",
     "text": [
      "Matrix one :\n",
      "[[12, 7, 3], [4, 5, 6], [7, 8, 9]]\n",
      "Matrix two :\n",
      "[[5, 8, 1], [6, 7, 3], [4, 5, 9]]\n"
     ]
    }
   ],
   "source": [
    "print(\"Matrix one :\")\n",
    "print(matrix1)\n",
    "print(\"Matrix two :\")\n",
    "print(matrix2)\n",
    "matrix3 = [[ 0 for i in range(col) ] for j in range(row)]\n",
    "#print(matrix3)"
   ]
  },
  {
   "cell_type": "code",
   "execution_count": 39,
   "metadata": {},
   "outputs": [
    {
     "name": "stdout",
     "output_type": "stream",
     "text": [
      "answer is :\n",
      "17 15 4 \n",
      "10 12 9 \n",
      "11 13 18 \n"
     ]
    }
   ],
   "source": [
    "for i in range(len(matrix1)):\n",
    "    for j in range(len(matrix1[i])):\n",
    "        matrix3[i][j] = matrix1[i][j] + matrix2[i][j]\n",
    "print(\"answer is :\")\n",
    "for i in range(len(matrix3)):\n",
    "    for j in range(len(matrix3[i])):\n",
    "        print(matrix3[i][j],end=\" \")\n",
    "    print()"
   ]
  },
  {
   "cell_type": "code",
   "execution_count": null,
   "metadata": {},
   "outputs": [],
   "source": []
  }
 ],
 "metadata": {
  "kernelspec": {
   "display_name": "Python 3",
   "language": "python",
   "name": "python3"
  },
  "language_info": {
   "codemirror_mode": {
    "name": "ipython",
    "version": 3
   },
   "file_extension": ".py",
   "mimetype": "text/x-python",
   "name": "python",
   "nbconvert_exporter": "python",
   "pygments_lexer": "ipython3",
   "version": "3.7.3"
  }
 },
 "nbformat": 4,
 "nbformat_minor": 2
}
