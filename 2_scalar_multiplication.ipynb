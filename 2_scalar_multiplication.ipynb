{
 "cells": [
  {
   "cell_type": "raw",
   "metadata": {},
   "source": [
    "# Filename: scalar multiplication of matrix\n",
    "#Created: Siddhesh salvi\n",
    "#Change history:18.1.2020 / Siddhhesh  Salvi\n",
    "#Problem statement :\n",
    "#2. Write a program to perform scalar multiplication of matrix and a number\n",
    " \tX = [[12,7,3],\n",
    "        [4 ,5,6],\n",
    "        [7 ,8,9]]\n",
    " Y = 9\t"
   ]
  },
  {
   "cell_type": "code",
   "execution_count": null,
   "metadata": {},
   "outputs": [],
   "source": [
    "# function to print matrix\n",
    "def print_matrix(given_mat):\n",
    "    for row in given_mat:\n",
    "        print(row)\n",
    "\n",
    "# input part\n",
    "flag = True\n",
    "while flag:\n",
    "    #exception handling\n",
    "    try:\n",
    "        row = int(input(\"Enter row count of matrix :\"))\n",
    "        col = int(input(\"Enter column count of matrix :\"))\n",
    "        matrix1 = [[0 for i in range(col)] for j in range(row)]\n",
    "\n",
    "        print(\"Enter first matrix : \")\n",
    "        for i in range(row):\n",
    "            print(\"row\", i + 1)\n",
    "            for j in range(col):\n",
    "                matrix1[i][j] = int(input())\n",
    "        number = int(input('Enter a number to multiply : '))\n",
    "        flag = False\n",
    "    except ValueError:\n",
    "        print(\"please enter valid integer. \")\n",
    "        continue\n",
    "    except Exception as e:\n",
    "        print(\" Error is  \", e)\n",
    "print(\"matrix is : \")\n",
    "print_matrix(matrix1)\n",
    "print(\"given number is :\",number)"
   ]
  },
  {
   "cell_type": "code",
   "execution_count": null,
   "metadata": {},
   "outputs": [],
   "source": [
    "# function to multiply matrix\n",
    "def multiply_mat_num(mat1, given_row, given_col, given_num):\n",
    "    mat3 = [[0 for i in range(given_col)] for j in range(given_row)]\n",
    "    for i in range(len(mat1)):\n",
    "        for j in range(len(mat1[i])):\n",
    "            mat3[i][j] = mat1[i][j] * given_num\n",
    "    return mat3\n",
    "\n",
    "matrix2 = multiply_mat_num(matrix1, row, col, number)\n",
    "print(\"answer is \")\n",
    "print_matrix(matrix2)\n"
   ]
  }
 ],
 "metadata": {
  "kernelspec": {
   "display_name": "Python 3",
   "language": "python",
   "name": "python3"
  },
  "language_info": {
   "codemirror_mode": {
    "name": "ipython",
    "version": 3
   },
   "file_extension": ".py",
   "mimetype": "text/x-python",
   "name": "python",
   "nbconvert_exporter": "python",
   "pygments_lexer": "ipython3",
   "version": "3.7.3"
  }
 },
 "nbformat": 4,
 "nbformat_minor": 2
}
