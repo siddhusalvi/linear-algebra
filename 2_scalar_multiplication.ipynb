{
 "cells": [
  {
   "cell_type": "markdown",
   "metadata": {},
   "source": [
    "#Filename: addition of matrix\n",
    "#Created: Siddhesh salvi\n",
    "#Change history:18.1.2020 / Siddhhesh  Salvi\n",
    "#Problem statement :\n",
    "#2. Write a program to perform scalar multiplication of matrix and a number\n",
    " \tX = [[12,7,3],\n",
    "        [4 ,5,6],\n",
    "        [7 ,8,9]]\n",
    " Y = 9\t"
   ]
  },
  {
   "cell_type": "code",
   "execution_count": 7,
   "metadata": {},
   "outputs": [
    {
     "name": "stdout",
     "output_type": "stream",
     "text": [
      "Enter row count of matrix :3\n"
     ]
    }
   ],
   "source": [
    "row = int(input(\"Enter row count of matrix :\"))"
   ]
  },
  {
   "cell_type": "code",
   "execution_count": 8,
   "metadata": {},
   "outputs": [
    {
     "name": "stdout",
     "output_type": "stream",
     "text": [
      "Enter column count of matrix :3\n"
     ]
    }
   ],
   "source": [
    "col = int(input(\"Enter column count of matrix :\"))"
   ]
  },
  {
   "cell_type": "code",
   "execution_count": 10,
   "metadata": {},
   "outputs": [
    {
     "name": "stdout",
     "output_type": "stream",
     "text": [
      "Enter first matrix : \n",
      "row 1\n",
      "1\n",
      "2\n",
      "3\n",
      "row 2\n",
      "4\n",
      "5\n",
      "6\n",
      "row 3\n",
      "7\n",
      "8\n",
      "9\n"
     ]
    }
   ],
   "source": [
    "matrix1 = [[ 0 for i in range(col) ] for j in range(row)]\n",
    "#print(matrix1)\n",
    "print(\"Enter first matrix : \")\n",
    "for i in range(row):\n",
    "    print(\"row\",i+1)\n",
    "    for j in range(col):\n",
    "        matrix1[i][j] = int(input())"
   ]
  },
  {
   "cell_type": "code",
   "execution_count": 11,
   "metadata": {},
   "outputs": [
    {
     "name": "stdout",
     "output_type": "stream",
     "text": [
      "enter number to multiply :5\n"
     ]
    }
   ],
   "source": [
    "number = int(input((\"enter number to multiply :\")))"
   ]
  },
  {
   "cell_type": "code",
   "execution_count": 12,
   "metadata": {},
   "outputs": [
    {
     "name": "stdout",
     "output_type": "stream",
     "text": [
      "[[5, 10, 15], [20, 25, 30], [35, 40, 45]]\n"
     ]
    }
   ],
   "source": [
    "for i in range(row):\n",
    "    for j in range(col):\n",
    "        matrix1[i][j] = number * matrix1[i][j]\n",
    "print(matrix1)"
   ]
  }
 ],
 "metadata": {
  "kernelspec": {
   "display_name": "Python 3",
   "language": "python",
   "name": "python3"
  },
  "language_info": {
   "codemirror_mode": {
    "name": "ipython",
    "version": 3
   },
   "file_extension": ".py",
   "mimetype": "text/x-python",
   "name": "python",
   "nbconvert_exporter": "python",
   "pygments_lexer": "ipython3",
   "version": "3.7.3"
  }
 },
 "nbformat": 4,
 "nbformat_minor": 2
}
