{
 "cells": [
  {
   "cell_type": "markdown",
   "metadata": {},
   "source": [
    "#Filename: vector multiplication of matrix\n",
    "#Created: Siddhesh salvi\n",
    "#Change history:18.1.2020 / Siddhhesh Salvi\n",
    "#Problem statement :\n",
    "#3. Write a program to perform multiplication of given matrix and vector\n",
    "#X = [[ 5, 1 ,3], [ 1, 1 ,1], [ 1, 2 ,1]], Y = [1, 2, 3]"
   ]
  },
  {
   "cell_type": "code",
   "execution_count": 36,
   "metadata": {
    "scrolled": true
   },
   "outputs": [
    {
     "name": "stdout",
     "output_type": "stream",
     "text": [
      "Enter row count of matrix :3\n",
      "Enter column count of matrix :3\n"
     ]
    }
   ],
   "source": [
    "row = int(input(\"Enter row count of matrix :\"))\n",
    "col = int(input(\"Enter column count of matrix :\"))\n",
    "matrix1 = [[0 for i in range(col) ] for j in range(row)]\n"
   ]
  },
  {
   "cell_type": "code",
   "execution_count": 37,
   "metadata": {},
   "outputs": [
    {
     "name": "stdout",
     "output_type": "stream",
     "text": [
      "Enter first matrix : \n",
      "row 1\n",
      "1\n",
      "1\n",
      "1\n",
      "row 2\n",
      "1\n",
      "1\n",
      "1\n",
      "row 3\n",
      "1\n",
      "1\n",
      "1\n"
     ]
    }
   ],
   "source": [
    "print(\"Enter first matrix : \")\n",
    "for i in range(row):\n",
    "    print(\"row\",i+1)\n",
    "    for j in range(col):\n",
    "        matrix1[i][j] = int(input())\n"
   ]
  },
  {
   "cell_type": "code",
   "execution_count": 40,
   "metadata": {},
   "outputs": [
    {
     "name": "stdout",
     "output_type": "stream",
     "text": [
      "Enter vector of 3 size to multiply\n",
      "1\n",
      "2\n",
      "3\n"
     ]
    }
   ],
   "source": [
    "print(\"Enter vector of\",row,\"size to multiply\")\n",
    "vector1 = [0 for i in range(row)]\n",
    "vector2 = [0 for i in range(row)]\n",
    "# [0 for i in range(row)]\n",
    "#print(vector1)\n",
    "#print(vector2)\n",
    "for i in range(row):\n",
    "    vector1[i] = int(input())\n",
    "#print(vector1)\n",
    "#print(vector2)"
   ]
  },
  {
   "cell_type": "code",
   "execution_count": 41,
   "metadata": {},
   "outputs": [
    {
     "name": "stdout",
     "output_type": "stream",
     "text": [
      "0 1 1\n",
      "1 1 2\n",
      "3 1 3\n",
      "0 1 1\n",
      "1 1 2\n",
      "3 1 3\n",
      "0 1 1\n",
      "1 1 2\n",
      "3 1 3\n",
      "[6, 6, 6]\n"
     ]
    }
   ],
   "source": [
    "for i in range(row):\n",
    "    for j in range(col):\n",
    "        #print(vector2[i],matrix1[i][j],vector1[j])\n",
    "        vector2[i] += (matrix1[i][j] * vector1[j])\n",
    "print(vector2)"
   ]
  }
 ],
 "metadata": {
  "kernelspec": {
   "display_name": "Python 3",
   "language": "python",
   "name": "python3"
  },
  "language_info": {
   "codemirror_mode": {
    "name": "ipython",
    "version": 3
   },
   "file_extension": ".py",
   "mimetype": "text/x-python",
   "name": "python",
   "nbconvert_exporter": "python",
   "pygments_lexer": "ipython3",
   "version": "3.7.3"
  }
 },
 "nbformat": 4,
 "nbformat_minor": 2
}
