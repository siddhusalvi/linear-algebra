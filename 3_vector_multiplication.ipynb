{
 "cells": [
  {
   "cell_type": "markdown",
   "metadata": {},
   "source": [
    "#Filename: vector multiplication of matrix\n",
    "#Created: Siddhesh salvi\n",
    "#Change history:18.1.2020 / Siddhhesh Salvi\n",
    "#Problem statement :\n",
    "#3. Write a program to perform multiplication of given matrix and vector\n",
    "#X = [[ 5, 1 ,3], [ 1, 1 ,1], [ 1, 2 ,1]], Y = [1, 2, 3]"
   ]
  },
  {
   "cell_type": "code",
   "execution_count": 3,
   "metadata": {},
   "outputs": [
    {
     "name": "stdout",
     "output_type": "stream",
     "text": [
      "Enter row count of matrix :4\n",
      "Enter column count of matrix :3\n"
     ]
    }
   ],
   "source": [
    "\n",
    "flag = True\n",
    "# input part\n",
    "while flag:\n",
    "    # exception handling\n",
    "    try:\n",
    "        row = int(input(\"Enter row count of matrix :\"))\n",
    "        col = int(input(\"Enter column count of matrix :\"))\n",
    "        flag = False \n",
    "    except ValueError:\n",
    "        print(\"please enter valid integer. \")\n",
    "        continue\n",
    "    except Exception as e:\n",
    "        print(\" Error is  \", e)\n"
   ]
  },
  {
   "cell_type": "code",
   "execution_count": 5,
   "metadata": {},
   "outputs": [
    {
     "name": "stdout",
     "output_type": "stream",
     "text": [
      "Enter first matrix : \n",
      "row 1\n",
      "1\n",
      "1\n",
      "1\n",
      "row 2\n",
      "1\n",
      "1\n",
      "1\n",
      "row 3\n",
      "1\n",
      "1\n",
      "1\n",
      "row 4\n",
      "1\n",
      "1\n",
      "1\n",
      "Enter vector of 4 * 1 size to multiply\n",
      "1\n",
      "1\n",
      "1\n",
      "1\n"
     ]
    }
   ],
   "source": [
    "matrix1 = [[0 for i in range(col)] for j in range(row)]\n",
    "flag = True\n",
    "# input part\n",
    "while flag:\n",
    "    # exception handling\n",
    "    try:\n",
    "        print(\"Enter first matrix : \")\n",
    "        for i in range(row):\n",
    "            print(\"row\", i + 1)\n",
    "            for j in range(col):\n",
    "                matrix1[i][j] = int(input())\n",
    "\n",
    "        vector1 = [0 for i in range(row)]\n",
    "        print(\"Enter vector of\", row,\"*\",\"1 size to multiply\")\n",
    "        for i in range(row):\n",
    "            vector1[i] = int(input())\n",
    "        flag = False\n",
    "\n",
    "    except ValueError:\n",
    "        print(\"please enter valid integer. \")\n",
    "        continue\n",
    "    except Exception as e:\n",
    "        print(\" Error is  \", e)"
   ]
  },
  {
   "cell_type": "code",
   "execution_count": 7,
   "metadata": {},
   "outputs": [
    {
     "name": "stdout",
     "output_type": "stream",
     "text": [
      "matrix is \n",
      "[1, 1, 1]\n",
      "[1, 1, 1]\n",
      "[1, 1, 1]\n",
      "[1, 1, 1]\n",
      "vector is \n",
      "[1, 1, 1, 1]\n",
      "answer is \n",
      "[3, 3, 3, 3]\n"
     ]
    }
   ],
   "source": [
    "def print_matrix(given_mat):\n",
    "    for row in given_mat:\n",
    "        print(row)\n",
    "\n",
    "\n",
    "# function to multiply matrix and vector\n",
    "def multiply_mat_vtr(mat1, given_row, given_col, given_num):\n",
    "    ans_vtr = [0 for i in range(row)]\n",
    "    for i in range(row):\n",
    "        for j in range(col):\n",
    "            ans_vtr[i] += (matrix1[i][j] * vector1[j])\n",
    "    return ans_vtr\n",
    "\n",
    "\n",
    "\n",
    "vector2 = multiply_mat_vtr(matrix1, vector1, row, col)\n",
    "print(\"matrix is \")\n",
    "print_matrix(matrix1)\n",
    "print(\"vector is \")\n",
    "print(vector1)\n",
    "print(\"answer is \")\n",
    "print(vector2)\n",
    "\n"
   ]
  }
 ],
 "metadata": {
  "kernelspec": {
   "display_name": "Python 3",
   "language": "python",
   "name": "python3"
  },
  "language_info": {
   "codemirror_mode": {
    "name": "ipython",
    "version": 3
   },
   "file_extension": ".py",
   "mimetype": "text/x-python",
   "name": "python",
   "nbconvert_exporter": "python",
   "pygments_lexer": "ipython3",
   "version": "3.7.3"
  }
 },
 "nbformat": 4,
 "nbformat_minor": 2
}
