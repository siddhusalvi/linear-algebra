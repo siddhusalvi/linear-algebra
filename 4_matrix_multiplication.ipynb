{
 "cells": [
  {
   "cell_type": "markdown",
   "metadata": {},
   "source": [
    "#Filename: multiplication of matrix\n",
    "#Created: Siddhesh salvi\n",
    "#Change history:18.1.2020 / Siddhhesh Salvi\n",
    "#Problem statement :\n",
    "#4. Write a program to multiply matrices in problem\n",
    "  \n",
    "  X = [[12,7,3],\n",
    "      [4 ,5,6],\n",
    "      [7 ,8,9]]\n",
    "  Y = [[5,8,1],\n",
    "      [6,7,3],\n",
    "      [4,5,9]]\n"
   ]
  },
  {
   "cell_type": "code",
   "execution_count": 16,
   "metadata": {},
   "outputs": [
    {
     "name": "stdout",
     "output_type": "stream",
     "text": [
      "Enter first matrix row size:3\n",
      "Enter first matrix col size:3\n",
      "Enter second matrix row size:3\n",
      "Enter second matrix col size:3\n",
      "Enter first matrix : \n",
      "for row  1\n",
      "12\n",
      "7\n",
      "3\n",
      "for row  2\n",
      "4\n",
      "5\n",
      "6\n",
      "for row  3\n",
      "7\n",
      "8\n",
      "9\n",
      "Enter second matrix : \n",
      "for row  1\n",
      "5\n",
      "8\n",
      "1\n",
      "for row  2\n",
      "6\n",
      "7\n",
      "3\n",
      "for row  3\n",
      "4\n",
      "5\n",
      "9\n",
      "first matrix\n",
      "[[12, 7, 3], [4, 5, 6], [7, 8, 9]]\n",
      "second matrix\n",
      "[[5, 8, 1], [6, 7, 3], [4, 5, 9]]\n",
      "answer is \n",
      "[[114, 160, 60], [74, 97, 73], [119, 157, 112]]\n"
     ]
    }
   ],
   "source": [
    "\n",
    "row1 = int(input(\"Enter first matrix row size:\"))\n",
    "col1 = int(input(\"Enter first matrix col size:\"))\n",
    "\n",
    "row2 = int(input(\"Enter second matrix row size:\"))\n",
    "col2 = int(input(\"Enter second matrix col size:\"))\n",
    "\n",
    "if col1 != row2:\n",
    "    print(\"Multiplication not possible.\")\n",
    "\n",
    "matrix1 = [[0 for i in range(col1)] for j in range(row1)]\n",
    "matrix2 = [[0 for i in range(col2)] for j in range(row2)]\n",
    "matrix3 = [[0 for i in range(row1)] for j in range(col2)]\n",
    "\n",
    "print(\"Enter first matrix : \")\n",
    "for i in range(row1):\n",
    "    print(\"for row \", i+1)\n",
    "    for j in range(col1):\n",
    "        matrix1[i][j] = int(input())\n",
    "\n",
    "print(\"Enter second matrix : \")\n",
    "for i in range(row2):\n",
    "    print(\"for row \", i+1)\n",
    "    for j in range(col2):\n",
    "        matrix2[i][j] = int(input())\n",
    "print(\"first matrix\")\n",
    "print(matrix1)\n",
    "print(\"second matrix\")\n",
    "print(matrix2)\n",
    "print(\"answer is \")\n",
    "\n",
    "for i in range(row1):\n",
    "    for j in range(col2):\n",
    "        sum = 0\n",
    "        for k in range(col2):\n",
    "            sum += matrix1[i][k] * matrix2[k][j]\n",
    "        matrix3[i][j] = sum\n",
    "print(matrix3)\n"
   ]
  }
 ],
 "metadata": {
  "kernelspec": {
   "display_name": "Python 3",
   "language": "python",
   "name": "python3"
  },
  "language_info": {
   "codemirror_mode": {
    "name": "ipython",
    "version": 3
   },
   "file_extension": ".py",
   "mimetype": "text/x-python",
   "name": "python",
   "nbconvert_exporter": "python",
   "pygments_lexer": "ipython3",
   "version": "3.7.3"
  }
 },
 "nbformat": 4,
 "nbformat_minor": 2
}
