{
 "cells": [
  {
   "cell_type": "markdown",
   "metadata": {},
   "source": [
    "#Filename: multiplication of matrix\n",
    "#Created: Siddhesh salvi\n",
    "#Change history:18.1.2020 / Siddhhesh Salvi\n",
    "#Problem statement :\n",
    "#4. Write a program to multiply matrices in problem\n",
    "  \n",
    "  X = [[12,7,3],\n",
    "      [4 ,5,6],\n",
    "      [7 ,8,9]]\n",
    "  Y = [[5,8,1],\n",
    "      [6,7,3],\n",
    "      [4,5,9]]\n"
   ]
  },
  {
   "cell_type": "code",
   "execution_count": 1,
   "metadata": {},
   "outputs": [
    {
     "name": "stdout",
     "output_type": "stream",
     "text": [
      "Enter first matrix row size:3\n",
      "Enter first matrix col size:3\n",
      "Enter second matrix row size:3\n",
      "Enter second matrix col size:3\n"
     ]
    }
   ],
   "source": [
    "flag = True\n",
    "while flag:\n",
    "    try:\n",
    "        row1 = int(input(\"Enter first matrix row size:\"))\n",
    "        col1 = int(input(\"Enter first matrix col size:\"))\n",
    "        row2 = int(input(\"Enter second matrix row size:\"))\n",
    "        col2 = int(input(\"Enter second matrix col size:\"))\n",
    "    except ValueError:\n",
    "        print(\"please enter valid integer. \")\n",
    "        continue\n",
    "    except Exception as e:\n",
    "        print(\" Error is  \", e)\n",
    "\n",
    "    if col1 != row2:\n",
    "        print(\"Multiplication not possible.\")\n",
    "        continue\n",
    "\n",
    "    else:\n",
    "        flag = False"
   ]
  },
  {
   "cell_type": "code",
   "execution_count": 2,
   "metadata": {},
   "outputs": [],
   "source": [
    "matrix1 = [[0 for i in range(col1)] for j in range(row1)]\n",
    "matrix2 = [[0 for i in range(col2)] for j in range(row2)]"
   ]
  },
  {
   "cell_type": "code",
   "execution_count": 3,
   "metadata": {},
   "outputs": [
    {
     "name": "stdout",
     "output_type": "stream",
     "text": [
      "Enter first matrix : \n",
      "for row  1\n",
      "1\n",
      "1\n",
      "1\n",
      "for row  2\n",
      "1\n",
      "1\n",
      "1\n",
      "for row  3\n",
      "1\n",
      "1\n",
      "1\n"
     ]
    }
   ],
   "source": [
    "flag = True\n",
    "while flag:\n",
    "    try:\n",
    "        print(\"Enter first matrix : \")\n",
    "        for i in range(row1):\n",
    "            print(\"for row \", i+1)\n",
    "            for j in range(col1):\n",
    "                matrix1[i][j] = int(input())\n",
    "        flag = False\n",
    "    except ValueError:\n",
    "        print(\"please enter valid integer. \")\n",
    "        continue\n",
    "    except Exception as e:\n",
    "        print(\" Error is  \", e)"
   ]
  },
  {
   "cell_type": "code",
   "execution_count": 4,
   "metadata": {},
   "outputs": [
    {
     "name": "stdout",
     "output_type": "stream",
     "text": [
      "Enter second matrix : \n",
      "for row  1\n",
      "1\n",
      "1\n",
      "1\n",
      "for row  2\n",
      "1\n",
      "1\n",
      "1\n",
      "for row  3\n",
      "1\n",
      "1\n",
      "1\n"
     ]
    }
   ],
   "source": [
    "flag = True\n",
    "while flag:\n",
    "    try:\n",
    "        print(\"Enter second matrix : \")\n",
    "        for i in range(row2):\n",
    "            print(\"for row \", i+1)\n",
    "            for j in range(col2):\n",
    "                matrix2[i][j] = int(input())\n",
    "        flag = False\n",
    "    except ValueError:\n",
    "        print(\"please enter valid integer. \")\n",
    "        continue\n",
    "    except Exception as e:\n",
    "        print(\" Error is  \", e)"
   ]
  },
  {
   "cell_type": "code",
   "execution_count": 5,
   "metadata": {},
   "outputs": [
    {
     "name": "stdout",
     "output_type": "stream",
     "text": [
      "matrix1 is \n",
      "[1, 1, 1]\n",
      "[1, 1, 1]\n",
      "[1, 1, 1]\n",
      "matrix2 is \n",
      "[1, 1, 1]\n",
      "[1, 1, 1]\n",
      "[1, 1, 1]\n",
      "answer is \n",
      "[3, 3, 3]\n",
      "[3, 3, 3]\n",
      "[3, 3, 3]\n"
     ]
    }
   ],
   "source": [
    "# function to print matrix\n",
    "def print_matrix(given_mat):\n",
    "    for row in given_mat:\n",
    "        print(row)\n",
    "\n",
    "def multiply_matrix(mat1,mat2,row,col,row2):\n",
    "    ans_mat = [[0 for i in range(row)] for j in range(col)]\n",
    "    for i in range(row):\n",
    "        for j in range(col):\n",
    "            sum = 0\n",
    "            for k in range(row2):\n",
    "                sum += matrix1[i][k] * matrix2[k][j]\n",
    "            ans_mat[i][j] = sum\n",
    "    return  ans_mat\n",
    "\n",
    "print(\"matrix1 is \")\n",
    "print_matrix(matrix1)\n",
    "\n",
    "print(\"matrix2 is \")\n",
    "print_matrix(matrix2)\n",
    "matrix3 = multiply_matrix(matrix1,matrix2,row1,col2,row2)\n",
    "print(\"answer is \")\n",
    "print_matrix(matrix3)"
   ]
  }
 ],
 "metadata": {
  "kernelspec": {
   "display_name": "Python 3",
   "language": "python",
   "name": "python3"
  },
  "language_info": {
   "codemirror_mode": {
    "name": "ipython",
    "version": 3
   },
   "file_extension": ".py",
   "mimetype": "text/x-python",
   "name": "python",
   "nbconvert_exporter": "python",
   "pygments_lexer": "ipython3",
   "version": "3.7.3"
  }
 },
 "nbformat": 4,
 "nbformat_minor": 2
}
