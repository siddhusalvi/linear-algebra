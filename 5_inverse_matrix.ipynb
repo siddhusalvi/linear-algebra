{
 "cells": [
  {
   "cell_type": "raw",
   "metadata": {},
   "source": [
    " \n",
    "\t5. Write a program to find inverse matrix of matrix X in problem 1\n",
    "    X = [[12,7,3],\n",
    "    \t[4 ,5,6],\n",
    "    \t[7 ,8,9]]\n",
    "    "
   ]
  },
  {
   "cell_type": "code",
   "execution_count": 33,
   "metadata": {},
   "outputs": [
    {
     "name": "stdout",
     "output_type": "stream",
     "text": [
      "Enter row count of matrix : 3\n",
      "Enter column count of matrix : 3\n"
     ]
    }
   ],
   "source": [
    "flag = True\n",
    "while flag:\n",
    "    try:\n",
    "        row = int(input(\"Enter row count of matrix : \"))\n",
    "        col = int(input(\"Enter column count of matrix : \"))\n",
    "        flag = False\n",
    "    except ValueError:\n",
    "        print(\"please enter valid integer. \")\n",
    "        continue\n",
    "    except Exception as e:\n",
    "        print(\" Error is  \", e)"
   ]
  },
  {
   "cell_type": "code",
   "execution_count": 53,
   "metadata": {},
   "outputs": [
    {
     "name": "stdout",
     "output_type": "stream",
     "text": [
      "Enter first matrix : \n",
      "row 1  :\n",
      "12\n",
      "7\n",
      "3\n",
      "row 2  :\n",
      "4\n",
      "5\n",
      "6\n",
      "row 3  :\n",
      "7\n",
      "8\n",
      "9\n"
     ]
    }
   ],
   "source": [
    "# input part\n",
    "flag = True\n",
    "while flag:\n",
    "    try:\n",
    "        matrix1 = [[0 for i in range(col)] for j in range(row)]\n",
    "        print(\"Enter first matrix : \")\n",
    "        for i in range(row):\n",
    "            print(\"row\", i + 1, \" :\")\n",
    "            for j in range(col):\n",
    "                matrix1[i][j] = int(input())\n",
    "        flag = False\n",
    "\n",
    "    except ValueError:\n",
    "        print(\"please enter valid integer. \")\n",
    "        continue\n",
    "    except Exception as e:\n",
    "        print(\" Error is  \", e)"
   ]
  },
  {
   "cell_type": "code",
   "execution_count": 54,
   "metadata": {},
   "outputs": [
    {
     "name": "stdout",
     "output_type": "stream",
     "text": [
      "given matrix is\n",
      "[12, 7, 3]\n",
      "[4, 5, 6]\n",
      "[7, 8, 9]\n"
     ]
    }
   ],
   "source": [
    "#function to print matrix\n",
    "def mtprint(mat):\n",
    "    for i in mat:\n",
    "        print(i)\n",
    "        \n",
    "print(\"given matrix is\")\n",
    "mtprint(matrix1)"
   ]
  },
  {
   "cell_type": "code",
   "execution_count": 55,
   "metadata": {},
   "outputs": [
    {
     "name": "stdout",
     "output_type": "stream",
     "text": [
      "minor matrix is \n",
      "[-3, -6, -3]\n",
      "[39, 87, 47]\n",
      "[27, 60, 32]\n"
     ]
    }
   ],
   "source": [
    "def minor_mat(given_mat,row,col):\n",
    "    mnr_mat = [[0 for i in range (col)] for j in range(row)]\n",
    "\n",
    "    mnr_mat[0][0] = ( given_mat[1][1] * given_mat[2][2]) - (given_mat[2][1] * given_mat[1][2])\n",
    "    mnr_mat[0][1] = ( given_mat[1][0] * given_mat[2][2]) - (given_mat[2][0] * given_mat[1][2])\n",
    "    mnr_mat[0][2] = ( given_mat[1][0] * given_mat[2][1]) - (given_mat[2][0] * given_mat[1][1])\n",
    "\n",
    "    mnr_mat[1][0] = ( given_mat[0][1] * given_mat[2][2]) - (given_mat[2][1] * given_mat[0][2])\n",
    "    mnr_mat[1][1] = ( given_mat[0][0] * given_mat[2][2]) - (given_mat[2][0] * given_mat[0][2])\n",
    "    mnr_mat[1][2] = ( given_mat[0][0] * given_mat[2][1]) - (given_mat[2][0] * given_mat[0][1])\n",
    "\n",
    "    mnr_mat[2][0] = ( given_mat[0][1] * given_mat[1][2]) - (given_mat[1][1] * given_mat[0][2])\n",
    "    mnr_mat[2][1] = ( given_mat[0][0] * given_mat[1][2]) - (given_mat[0][2] * given_mat[1][0])\n",
    "    mnr_mat[2][2] = ( given_mat[0][0] * given_mat[1][1]) - (given_mat[1][0] * given_mat[0][1])\n",
    "\n",
    "    return mnr_mat\n",
    "\n",
    "\n",
    "print(\"minor matrix is \")\n",
    "minors = minor_mat(matrix1,row,col)\n",
    "mtprint(minors)"
   ]
  },
  {
   "cell_type": "code",
   "execution_count": 56,
   "metadata": {},
   "outputs": [
    {
     "name": "stdout",
     "output_type": "stream",
     "text": [
      "cofactor of minor\n",
      "[-3, 6, -3]\n",
      "[-39, 87, -47]\n",
      "[27, -60, 32]\n"
     ]
    }
   ],
   "source": [
    "def cofactor_mat(given_mat):\n",
    "    new_mat = [[0 for i in range(col)] for j in range(row)]\n",
    "    new_mat[0][0] = given_mat[0][0] * 1\n",
    "    new_mat[0][1] = given_mat[0][1] * -1\n",
    "    new_mat[0][2] = given_mat[0][2] * 1\n",
    "\n",
    "    new_mat[1][0] = given_mat[1][0] * -1\n",
    "    new_mat[1][1] = given_mat[1][1] * 1\n",
    "    new_mat[1][2] = given_mat[1][2] * -1\n",
    "\n",
    "    new_mat[2][0] = given_mat[2][0] * 1\n",
    "    new_mat[2][1] = given_mat[2][1] * -1\n",
    "    new_mat[2][2] = given_mat[2][2] * 1\n",
    "\n",
    "    return new_mat\n",
    "\n",
    "print(\"cofactor of minor\")\n",
    "cofactor = cofactor_mat(minors)\n",
    "mtprint(cofactor)"
   ]
  },
  {
   "cell_type": "code",
   "execution_count": 57,
   "metadata": {},
   "outputs": [
    {
     "name": "stdout",
     "output_type": "stream",
     "text": [
      "adjugate is \n",
      "[-3, -39, 27]\n",
      "[6, 87, -60]\n",
      "[-3, -47, 32]\n"
     ]
    }
   ],
   "source": [
    "def adjugate_mat(given_mat,row,col):\n",
    "    new_mat = [[0 for i in range(col)] for j in range(row)]\n",
    "    for i in range(len(new_mat)):\n",
    "        for j in range(len(new_mat[i])):\n",
    "            new_mat[j][i] = given_mat[i][j]\n",
    "    return new_mat\n",
    "\n",
    "print(\"adjugate is \")\n",
    "adg_mat = adjugate_mat(cofactor, row, col)\n",
    "mtprint(adg_mat)"
   ]
  },
  {
   "cell_type": "code",
   "execution_count": 58,
   "metadata": {},
   "outputs": [
    {
     "name": "stdout",
     "output_type": "stream",
     "text": [
      "-3\n"
     ]
    }
   ],
   "source": [
    "def get_determinant(given_mat):\n",
    "    ans = given_mat[0][0] * ((given_mat[1][1]) * (given_mat[2][2]) - (given_mat[2][1]) * (given_mat[1][2])) - given_mat[0][1] * ((given_mat[1][0]) * (given_mat[2][2]) - (given_mat[2][0]) * (given_mat[1][2])) + given_mat[0][2] * ((given_mat[1][0]) * (given_mat[2][1]) - (given_mat[2][0]) * (given_mat[1][1]))\n",
    "    return ans\n",
    "\n",
    "\n",
    "detrmnt = get_determinant(matrix1)\n",
    "print(detrmnt)"
   ]
  },
  {
   "cell_type": "code",
   "execution_count": 59,
   "metadata": {},
   "outputs": [
    {
     "name": "stdout",
     "output_type": "stream",
     "text": [
      "multiply by determnt\n",
      "[1.0, 13.0, -9.0]\n",
      "[-2.0, -29.0, 20.0]\n",
      "[1.0, 15.666666666666666, -10.666666666666666]\n"
     ]
    }
   ],
   "source": [
    "\n",
    "# function to multiply matrix\n",
    "def multiply_mat_num(given_mat, given_num, row, col):\n",
    "    new_mat = [[1.0 for i in range(col)] for j in range(row)]\n",
    "    for i in range(len(new_mat)):\n",
    "        for j in range(len(new_mat[i])):\n",
    "            new_mat[i][j] = given_mat[i][j] * given_num\n",
    "    mtprint(new_mat)\n",
    "    \n",
    "detrmnt = 1/detrmnt\n",
    "print(\"multiply by determnt\")\n",
    "multiply_mat_num(adg_mat, detrmnt, row, col)"
   ]
  }
 ],
 "metadata": {
  "kernelspec": {
   "display_name": "Python 3",
   "language": "python",
   "name": "python3"
  },
  "language_info": {
   "codemirror_mode": {
    "name": "ipython",
    "version": 3
   },
   "file_extension": ".py",
   "mimetype": "text/x-python",
   "name": "python",
   "nbconvert_exporter": "python",
   "pygments_lexer": "ipython3",
   "version": "3.7.3"
  }
 },
 "nbformat": 4,
 "nbformat_minor": 2
}
