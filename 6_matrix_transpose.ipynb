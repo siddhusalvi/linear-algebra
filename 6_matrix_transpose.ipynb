{
 "cells": [
  {
   "cell_type": "raw",
   "metadata": {},
   "source": [
    "6. Write a program to find transpose matrix of matrix\n",
    "Y = [[5,8,1],\n",
    "     [6,7,3],\n",
    "     [4,5,9]]"
   ]
  },
  {
   "cell_type": "code",
   "execution_count": 5,
   "metadata": {},
   "outputs": [
    {
     "name": "stdout",
     "output_type": "stream",
     "text": [
      "Enter row count of matrix : 1\n",
      "Enter column count of matrix : 4\n"
     ]
    }
   ],
   "source": [
    "flag = True\n",
    "while flag:\n",
    "    try:\n",
    "        row = int(input(\"Enter row count of matrix : \"))\n",
    "        col = int(input(\"Enter column count of matrix : \"))\n",
    "        flag = False\n",
    "    except ValueError:\n",
    "        print(\"please enter valid integer. \")\n",
    "        continue\n",
    "    except Exception as e:\n",
    "        print(\" Error is  \", e)"
   ]
  },
  {
   "cell_type": "code",
   "execution_count": 10,
   "metadata": {},
   "outputs": [
    {
     "name": "stdout",
     "output_type": "stream",
     "text": [
      "Enter the matrix : \n",
      "row 1  :\n",
      "1\n",
      "2\n",
      "3\n",
      "4\n"
     ]
    }
   ],
   "source": [
    "# input part\n",
    "flag = True\n",
    "while flag:\n",
    "    try:\n",
    "        matrix1 = [[0 for i in range(col)] for j in range(row)]\n",
    "        print(\"Enter the matrix : \")\n",
    "        for i in range(row):\n",
    "            print(\"row\", i + 1, \" :\")\n",
    "            for j in range(col):\n",
    "                matrix1[i][j] = int(input())\n",
    "        flag = False\n",
    "\n",
    "    except ValueError:\n",
    "        print(\"please enter valid integer. \")\n",
    "        continue\n",
    "    except Exception as e:\n",
    "        print(\" Error is  \", e)"
   ]
  },
  {
   "cell_type": "code",
   "execution_count": 11,
   "metadata": {},
   "outputs": [
    {
     "name": "stdout",
     "output_type": "stream",
     "text": [
      "given matrix is\n",
      "[1, 2, 3, 4]\n"
     ]
    }
   ],
   "source": [
    "#function to print matrix\n",
    "def mtprint(mat):\n",
    "    for i in mat:\n",
    "        print(i)\n",
    "        \n",
    "print(\"given matrix is\")\n",
    "mtprint(matrix1)"
   ]
  },
  {
   "cell_type": "code",
   "execution_count": 12,
   "metadata": {},
   "outputs": [
    {
     "name": "stdout",
     "output_type": "stream",
     "text": [
      "[1]\n",
      "[2]\n",
      "[3]\n",
      "[4]\n"
     ]
    }
   ],
   "source": [
    "def transpose_mat(mat,row,col):\n",
    "    trnps = [[0 for i in range(row)]for j in range(col)]\n",
    "    for i in range(len(trnps)):\n",
    "        for j in range(len(trnps[i])):\n",
    "            trnps[i][j] = mat[j][i]\n",
    "    mtprint(trnps)\n",
    "\n",
    "transpose_mat(matrix1,row,col)"
   ]
  }
 ],
 "metadata": {
  "kernelspec": {
   "display_name": "Python 3",
   "language": "python",
   "name": "python3"
  },
  "language_info": {
   "codemirror_mode": {
    "name": "ipython",
    "version": 3
   },
   "file_extension": ".py",
   "mimetype": "text/x-python",
   "name": "python",
   "nbconvert_exporter": "python",
   "pygments_lexer": "ipython3",
   "version": "3.7.3"
  }
 },
 "nbformat": 4,
 "nbformat_minor": 2
}
