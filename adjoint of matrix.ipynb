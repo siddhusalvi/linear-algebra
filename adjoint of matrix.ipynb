{
 "cells": [
  {
   "cell_type": "code",
   "execution_count": 18,
   "metadata": {},
   "outputs": [
    {
     "name": "stdout",
     "output_type": "stream",
     "text": [
      "Enter row count of matrix : 1\n",
      "Enter column count of matrix : 1\n"
     ]
    }
   ],
   "source": [
    "flag = True\n",
    "while flag:\n",
    "    try:\n",
    "        row = int(input(\"Enter row count of matrix : \"))\n",
    "        col = int(input(\"Enter column count of matrix : \"))\n",
    "        flag = False\n",
    "    except ValueError:\n",
    "        print(\"please enter valid integer. \")\n",
    "        continue\n",
    "    except Exception as e:\n",
    "        print(\" Error is  \", e)"
   ]
  },
  {
   "cell_type": "code",
   "execution_count": 19,
   "metadata": {},
   "outputs": [
    {
     "name": "stdout",
     "output_type": "stream",
     "text": [
      "Enter first matrix : \n",
      "row 1  :\n",
      "1\n"
     ]
    }
   ],
   "source": [
    "# input part\n",
    "flag = True\n",
    "while flag:\n",
    "    try:\n",
    "        matrix1 = [[0 for i in range(col)] for j in range(row)]\n",
    "        print(\"Enter first matrix : \")\n",
    "        for i in range(row):\n",
    "            print(\"row\", i + 1, \" :\")\n",
    "            for j in range(col):\n",
    "                matrix1[i][j] = int(input())\n",
    "        flag = False\n",
    "    except ValueError:\n",
    "        print(\"please enter valid integer. \")\n",
    "        continue\n",
    "    except Exception as e:\n",
    "        print(\" Error is  \", e)"
   ]
  },
  {
   "cell_type": "code",
   "execution_count": 20,
   "metadata": {},
   "outputs": [
    {
     "name": "stdout",
     "output_type": "stream",
     "text": [
      "Matrix one is :\n",
      "[1]\n"
     ]
    }
   ],
   "source": [
    "# function to print matrix\n",
    "def print_matrix(given_mat):\n",
    "    for rows in given_mat:\n",
    "        print(rows)\n",
    "\n",
    "print(\"Matrix one is :\")\n",
    "print_matrix(matrix1)"
   ]
  },
  {
   "cell_type": "code",
   "execution_count": 21,
   "metadata": {},
   "outputs": [],
   "source": [
    "def get_val(mat, x, y, row, col):\n",
    "    if row != col:\n",
    "        print(\"error occured in get val\")\n",
    "    elif row == 2:\n",
    "        lst = []\n",
    "        one = 1\n",
    "        if (x + y + 2) % 2 != 0:\n",
    "            one = -1\n",
    "        for i in range(row):\n",
    "            for j in range(col):\n",
    "                if i != x:\n",
    "                    if j != y:\n",
    "                        return (mat[i][j] * one)\n",
    "    else:\n",
    "        lst = []\n",
    "        one = 1\n",
    "        if(x+y+2)%2 != 0:\n",
    "            one = -1\n",
    "        for i in range(row):\n",
    "            for j in range(col):\n",
    "                if i != x:\n",
    "                    if j != y:\n",
    "                        lst.append(mat[i][j])\n",
    "        if len(lst) != 4:\n",
    "            print(\"Error in get val\")\n",
    "        else:\n",
    "            return (lst[0] * lst[3] - lst[1] * lst[2]) * one\n",
    "\n",
    "\n",
    "\n",
    "def adjoint(mat, row, col):\n",
    "    if row != col:\n",
    "        return -1\n",
    "    elif row == 1:\n",
    "        return [[1]]\n",
    "    elif row == 2:\n",
    "        ans_mat = [[0 for i in range(col)] for j in range(row)]\n",
    "        for i in range(row):\n",
    "            for j in range(col):\n",
    "                ans_mat[i][j] = get_val(mat, i, j, row, col)\n",
    "        return ans_mat\n",
    "\n",
    "    else:\n",
    "        ans_mat = [[0 for i in range(col)] for j in range(row)]\n",
    "        ans_mat1 = [[0 for i in range(col)] for j in range(row)]\n",
    "        for i in range(row):\n",
    "            for j in range(col):\n",
    "                ans_mat[i][j] = get_val(mat, i, j, row, col)\n",
    "        for i in range(row):\n",
    "            for j in range(col):\n",
    "                ans_mat1[j][i] = ans_mat[i][j]\n",
    "        return ans_mat1\n"
   ]
  },
  {
   "cell_type": "code",
   "execution_count": 22,
   "metadata": {},
   "outputs": [
    {
     "name": "stdout",
     "output_type": "stream",
     "text": [
      "[1]\n"
     ]
    }
   ],
   "source": [
    "\n",
    "print_matrix(adjoint(matrix1, row, col))"
   ]
  }
 ],
 "metadata": {
  "kernelspec": {
   "display_name": "Python 3",
   "language": "python",
   "name": "python3"
  },
  "language_info": {
   "codemirror_mode": {
    "name": "ipython",
    "version": 3
   },
   "file_extension": ".py",
   "mimetype": "text/x-python",
   "name": "python",
   "nbconvert_exporter": "python",
   "pygments_lexer": "ipython3",
   "version": "3.7.3"
  }
 },
 "nbformat": 4,
 "nbformat_minor": 2
}
